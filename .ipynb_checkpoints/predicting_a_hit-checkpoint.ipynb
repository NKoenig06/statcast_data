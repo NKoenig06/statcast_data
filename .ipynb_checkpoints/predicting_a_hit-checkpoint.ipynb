{
 "cells": [
  {
   "cell_type": "code",
   "execution_count": 3,
   "metadata": {},
   "outputs": [],
   "source": [
    "from pybaseball import statcast\n",
    "import pandas as pd\n",
    "import numpy as np\n",
    "import warnings\n",
    "warnings.filterwarnings('ignore')"
   ]
  },
  {
   "cell_type": "markdown",
   "metadata": {},
   "source": [
    "# Variables to consider to build a predicted hit model\n",
    "\n",
    "- launch angle\n",
    "- launch speed\n",
    "- hc_y\n",
    "- hc_x\n",
    "- if_fielding_assignment (need to dummy code)\n",
    "- of_fielding_assignment (need to dummy code)\n",
    "- outs_when_up\n",
    "- home_team (need to dummy code)\n",
    "- stand (recode)\n",
    "- hit_location\n",
    "- p_throws (recode)"
   ]
  },
  {
   "cell_type": "code",
   "execution_count": 4,
   "metadata": {},
   "outputs": [
    {
     "name": "stdout",
     "output_type": "stream",
     "text": [
      "This is a large query, it may take a moment to complete\n",
      "Completed sub-query from 2019-03-31 to 2019-04-05\n",
      "Completed sub-query from 2019-04-06 to 2019-04-11\n",
      "Completed sub-query from 2019-04-12 to 2019-04-17\n",
      "Completed sub-query from 2019-04-18 to 2019-04-23\n",
      "Completed sub-query from 2019-04-24 to 2019-04-29\n",
      "Completed sub-query from 2019-04-30 to 2019-05-05\n",
      "Completed sub-query from 2019-05-06 to 2019-05-11\n",
      "Completed sub-query from 2019-05-12 to 2019-05-17\n",
      "Completed sub-query from 2019-05-18 to 2019-05-23\n",
      "Completed sub-query from 2019-05-24 to 2019-05-29\n",
      "Completed sub-query from 2019-05-30 to 2019-06-04\n",
      "Completed sub-query from 2019-06-05 to 2019-06-10\n",
      "Completed sub-query from 2019-06-11 to 2019-06-16\n",
      "Completed sub-query from 2019-06-17 to 2019-06-22\n",
      "Completed sub-query from 2019-06-23 to 2019-06-28\n",
      "Completed sub-query from 2019-06-29 to 2019-07-04\n",
      "Completed sub-query from 2019-07-05 to 2019-07-10\n",
      "Completed sub-query from 2019-07-11 to 2019-07-16\n",
      "Completed sub-query from 2019-07-17 to 2019-07-22\n",
      "Completed sub-query from 2019-07-23 to 2019-07-28\n",
      "Completed sub-query from 2019-07-29 to 2019-08-03\n",
      "Completed sub-query from 2019-08-04 to 2019-08-09\n",
      "Completed sub-query from 2019-08-10 to 2019-08-15\n",
      "Completed sub-query from 2019-08-16 to 2019-08-21\n",
      "Completed sub-query from 2019-08-22 to 2019-08-27\n",
      "Completed sub-query from 2019-08-28 to 2019-09-02\n",
      "Completed sub-query from 2019-09-03 to 2019-09-08\n",
      "Completed sub-query from 2019-09-09 to 2019-09-14\n",
      "Completed sub-query from 2019-09-15 to 2019-09-20\n",
      "Completed sub-query from 2019-09-21 to 2019-09-26\n",
      "Completed sub-query from 2019-09-27 to 2019-10-02\n",
      "Completed sub-query from 2019-10-03 to 2019-10-04\n"
     ]
    }
   ],
   "source": [
    "hitter_stats = statcast('2019-03-31','2019-10-04')"
   ]
  },
  {
   "cell_type": "code",
   "execution_count": 82,
   "metadata": {},
   "outputs": [],
   "source": [
    "hit = hitter_stats[['launch_angle','launch_speed','hc_x','hc_y','if_fielding_alignment','of_fielding_alignment','outs_when_up','home_team',\n",
    "    'stand','hit_location','p_throws','type','events']]\n",
    "\n",
    "in_play = hit[hit['type']=='X']"
   ]
  },
  {
   "cell_type": "markdown",
   "metadata": {},
   "source": [
    "## Recode events to hits or not"
   ]
  },
  {
   "cell_type": "code",
   "execution_count": 83,
   "metadata": {},
   "outputs": [],
   "source": [
    "in_play['hit'] = in_play['events'].apply(lambda x: 1 if x in('single','double','home_run','triple') else 0)"
   ]
  },
  {
   "cell_type": "markdown",
   "metadata": {},
   "source": [
    "## Cleaning Data for input into the model\n",
    "- Recodes\n",
    "- Dummy Codes"
   ]
  },
  {
   "cell_type": "code",
   "execution_count": 84,
   "metadata": {},
   "outputs": [],
   "source": [
    "# Recodes\n",
    "in_play['right_handed_batter'] = in_play['stand'].apply(lambda x: 1 if x =='R' else 0)\n",
    "in_play['right_handed_pitcher'] = in_play['p_throws'].apply(lambda x: 1 if x =='R' else 0)"
   ]
  },
  {
   "cell_type": "code",
   "execution_count": 85,
   "metadata": {},
   "outputs": [],
   "source": [
    "# drop all variables that will be recoded or dummy coded\n",
    "in_play_new = in_play.drop(['if_fielding_alignment','of_fielding_alignment','home_team','stand','type','events','p_throws'],axis=1)"
   ]
  },
  {
   "cell_type": "code",
   "execution_count": 86,
   "metadata": {},
   "outputs": [
    {
     "data": {
      "text/plain": [
       "array([ 9.,  8.,  3.,  5., nan,  4.,  7.,  6.,  1.,  2.])"
      ]
     },
     "execution_count": 86,
     "metadata": {},
     "output_type": "execute_result"
    }
   ],
   "source": [
    "in_play_new['hit_location'].unique()"
   ]
  },
  {
   "cell_type": "markdown",
   "metadata": {},
   "source": [
    "we can see here that a certain % of hit locations have a np.nan. After some quick digging I identified these as homeruns. So we can re-code these as hit location 0, but in reality we can clearly see how this is cheating at this point because now we know that every ball with a hit location of 10 is a hit (perfect signal). But let's still use it. "
   ]
  },
  {
   "cell_type": "code",
   "execution_count": 87,
   "metadata": {},
   "outputs": [],
   "source": [
    "in_play_new['hit_location'].replace(np.nan, 10,inplace=True)"
   ]
  },
  {
   "cell_type": "code",
   "execution_count": 88,
   "metadata": {},
   "outputs": [],
   "source": [
    "# dummy code and concatenate \n",
    "train = pd.concat([in_play_new, pd.get_dummies(in_play['if_fielding_alignment'])],axis=1)\n",
    "train = pd.concat([in_play_new, pd.get_dummies(in_play['of_fielding_alignment'])],axis=1)\n",
    "train = pd.concat([in_play_new, pd.get_dummies(in_play['home_team'])],axis=1)"
   ]
  },
  {
   "cell_type": "code",
   "execution_count": 89,
   "metadata": {},
   "outputs": [],
   "source": [
    "# make sure there are no NAs\n",
    "train.dropna(inplace=True)"
   ]
  },
  {
   "cell_type": "code",
   "execution_count": 64,
   "metadata": {},
   "outputs": [],
   "source": [
    "x_train = train.drop(['hit'],axis=1)\n",
    "y_train = train['hit']"
   ]
  },
  {
   "cell_type": "code",
   "execution_count": 65,
   "metadata": {},
   "outputs": [
    {
     "data": {
      "text/plain": [
       "0.33403598888673514"
      ]
     },
     "execution_count": 65,
     "metadata": {},
     "output_type": "execute_result"
    }
   ],
   "source": [
    "y_train.mean()"
   ]
  },
  {
   "cell_type": "markdown",
   "metadata": {},
   "source": [
    "predicting all outs would get us to 66.6% accuracy"
   ]
  },
  {
   "cell_type": "markdown",
   "metadata": {},
   "source": [
    "## Logistic Regression"
   ]
  },
  {
   "cell_type": "code",
   "execution_count": 66,
   "metadata": {},
   "outputs": [
    {
     "name": "stdout",
     "output_type": "stream",
     "text": [
      "Random Forest cross-validated mean AUC:  0.882987370775784\n"
     ]
    }
   ],
   "source": [
    "# cross-validate basic Logistic Regression model to get a baseline AUC\n",
    "from sklearn.model_selection import cross_val_score\n",
    "from sklearn.linear_model import LogisticRegression\n",
    "lr_cv = cross_val_score(LogisticRegression(),\n",
    "x_train,y_train,scoring='roc_auc',cv=10)\n",
    "print(\"Random Forest cross-validated mean AUC: \",lr_cv.mean())"
   ]
  },
  {
   "cell_type": "markdown",
   "metadata": {},
   "source": [
    "## Random Forest"
   ]
  },
  {
   "cell_type": "code",
   "execution_count": 67,
   "metadata": {},
   "outputs": [
    {
     "name": "stdout",
     "output_type": "stream",
     "text": [
      "Random Forest cross-validated mean AUC:  0.9591175444730838\n"
     ]
    }
   ],
   "source": [
    "# cross-validate basic Random Forest model to get an AUC\n",
    "from sklearn.ensemble import RandomForestClassifier\n",
    "rf_cv = cross_val_score(RandomForestClassifier(),\n",
    "x_train,y_train,scoring='roc_auc',cv=10)\n",
    "print(\"Random Forest cross-validated mean AUC: \",rf_cv.mean())"
   ]
  },
  {
   "cell_type": "markdown",
   "metadata": {},
   "source": [
    "## XGBoost"
   ]
  },
  {
   "cell_type": "code",
   "execution_count": 68,
   "metadata": {},
   "outputs": [
    {
     "name": "stdout",
     "output_type": "stream",
     "text": [
      "XGBoost cross-validated mean AUC:  0.9600988888258606\n"
     ]
    }
   ],
   "source": [
    "# cross-validate basic XGBoost model to get an AUC\n",
    "from xgboost import XGBClassifier\n",
    "xgb_cv = cross_val_score(XGBClassifier(),\n",
    "x_train,y_train,scoring='roc_auc',cv=10)\n",
    "print(\"XGBoost cross-validated mean AUC: \",xgb_cv.mean())"
   ]
  },
  {
   "cell_type": "markdown",
   "metadata": {},
   "source": [
    "# Train/Test Split"
   ]
  },
  {
   "cell_type": "code",
   "execution_count": 69,
   "metadata": {},
   "outputs": [
    {
     "name": "stdout",
     "output_type": "stream",
     "text": [
      "80480 43336 123816\n"
     ]
    }
   ],
   "source": [
    "from sklearn.model_selection import train_test_split\n",
    "X_train, X_test,y_train, y_test = train_test_split(x_train,y_train,test_size=.35, random_state=101)\n",
    "print (len(X_train), len(X_test), len(X_train)+ len(X_test))"
   ]
  },
  {
   "cell_type": "code",
   "execution_count": 70,
   "metadata": {},
   "outputs": [
    {
     "name": "stdout",
     "output_type": "stream",
     "text": [
      "XGBoost Accuracy: 0.9163743769614178\n",
      "XGBoost AUC: 0.9608995982830845\n"
     ]
    }
   ],
   "source": [
    "from sklearn.metrics import roc_auc_score\n",
    "from sklearn.metrics import accuracy_score\n",
    "from xgboost import XGBClassifier\n",
    "\n",
    "xgb = XGBClassifier()\n",
    "xgb.fit(X_train,y_train)\n",
    "xgb_proba = xgb.predict_proba(X_test)\n",
    "# Predictions###############\n",
    "xgb_proba_2 = xgb_proba[:,1]\n",
    "xgb_pred = xgb.predict(X_test)\n",
    "\n",
    "print('XGBoost Accuracy:',accuracy_score(y_test, xgb_pred))\n",
    "print('XGBoost AUC:',roc_auc_score(y_test,xgb_proba_2))"
   ]
  },
  {
   "cell_type": "code",
   "execution_count": 71,
   "metadata": {},
   "outputs": [
    {
     "name": "stdout",
     "output_type": "stream",
     "text": [
      "             precision    recall  f1-score   support\n",
      "\n",
      "          0       0.92      0.96      0.94     28895\n",
      "          1       0.91      0.83      0.87     14441\n",
      "\n",
      "avg / total       0.92      0.92      0.92     43336\n",
      "\n"
     ]
    }
   ],
   "source": [
    "from sklearn.metrics import classification_report\n",
    "print(classification_report(y_test,xgb_pred))"
   ]
  },
  {
   "cell_type": "markdown",
   "metadata": {},
   "source": [
    "In 30 minutes I was able to produce a better model than the [hardballtimes model](https://tht.fangraphs.com/using-statcast-data-to-predict-hits/) on precision, recall, accuracy, and F1. \n",
    "\n",
    "\n",
    "Note model 2"
   ]
  },
  {
   "cell_type": "markdown",
   "metadata": {},
   "source": [
    "![img](https://i.imgur.com/6aJvc7s.png)"
   ]
  },
  {
   "cell_type": "markdown",
   "metadata": {},
   "source": [
    "# Feature Importances"
   ]
  },
  {
   "cell_type": "code",
   "execution_count": 72,
   "metadata": {},
   "outputs": [
    {
     "data": {
      "image/png": "[encoded data removed]",
      "text/plain": [
       "<Figure size 1152x576 with 1 Axes>"
      ]
     },
     "metadata": {},
     "output_type": "display_data"
    }
   ],
   "source": [
    "feats = {} # a dict to hold feature_name: feature_importance\n",
    "for feature, importance in zip(X_train.columns, xgb.feature_importances_):\n",
    "    feats[feature] = importance #add the name/value pair \n",
    "\n",
    "importances = pd.DataFrame.from_dict(feats, orient='index').rename(columns={0: 'Gini-importance'})\n",
    "from pylab import rcParams\n",
    "rcParams['figure.figsize']=16,8\n",
    "figure = importances.sort_values(by='Gini-importance').iloc[-12:,:].plot(kind='bar', rot=45)"
   ]
  },
  {
   "cell_type": "markdown",
   "metadata": {},
   "source": [
    "# ANN"
   ]
  },
  {
   "cell_type": "code",
   "execution_count": 73,
   "metadata": {},
   "outputs": [],
   "source": [
    "## Neural Network\n",
    "\n",
    "#standardizing data and replacing all missing values with zeros for Neural Network\n",
    "# hashed out the validation sets, but use them when building a train/test split.\n",
    "\n",
    "X_train.fillna(0,inplace=True)\n",
    "X_test.fillna(0,inplace=True)\n",
    "\n",
    "y_train.fillna(0,inplace=True)\n",
    "y_test.fillna(0,inplace=True)\n",
    "# Feature Scaling\n",
    "from sklearn.preprocessing import StandardScaler\n",
    "sc = StandardScaler()\n",
    "X_train = sc.fit_transform(X_train)\n",
    "X_test = sc.transform(X_test)"
   ]
  },
  {
   "cell_type": "code",
   "execution_count": 74,
   "metadata": {},
   "outputs": [
    {
     "name": "stderr",
     "output_type": "stream",
     "text": [
      "Using TensorFlow backend.\n"
     ]
    },
    {
     "data": {
      "text/plain": [
       "(80480, 38)"
      ]
     },
     "execution_count": 74,
     "metadata": {},
     "output_type": "execute_result"
    }
   ],
   "source": [
    "# Importing the Keras libraries and packages\n",
    "import keras\n",
    "from keras.models import Sequential\n",
    "from keras.layers import Dense\n",
    "from keras.layers import Dropout\n",
    "# print shape to get the number of features for the input layer\n",
    "X_train.shape"
   ]
  },
  {
   "cell_type": "code",
   "execution_count": 75,
   "metadata": {},
   "outputs": [],
   "source": [
    "# Initialising the ANN\n",
    "classifier = Sequential()\n",
    "# Adding the input layer and the first hidden layer\n",
    "# input_dim needs to match the shape of the data, hence input_dim=149\n",
    "classifier.add(Dense(units = 30, kernel_initializer = 'uniform', activation = 'relu', input_dim = 38))\n",
    "classifier.add(Dropout(0.25))\n",
    "# Adding the second hidden layer\n",
    "classifier.add(Dense(units = 30, kernel_initializer = 'uniform', activation = 'relu'))\n",
    "classifier.add(Dropout(0.25))\n",
    "# Adding the third hidden layer\n",
    "classifier.add(Dense(units = 15, kernel_initializer = 'uniform', activation = 'relu'))\n",
    "classifier.add(Dropout(0.25))\n",
    "classifier.add(Dense(units = 5, kernel_initializer = 'uniform', activation = 'relu'))\n",
    "classifier.add(Dropout(0.25))\n",
    "# Adding the output layer\n",
    "classifier.add(Dense(units = 1, kernel_initializer = 'uniform', activation = 'sigmoid'))\n",
    "# Compiling the ANN\n",
    "classifier.compile(optimizer = 'adam', loss = 'binary_crossentropy', metrics = ['accuracy'])"
   ]
  },
  {
   "cell_type": "code",
   "execution_count": 76,
   "metadata": {},
   "outputs": [
    {
     "name": "stdout",
     "output_type": "stream",
     "text": [
      "Train on 80480 samples, validate on 43336 samples\n",
      "Epoch 1/15\n",
      "80480/80480 [==============================] - 2s 29us/step - loss: 0.4858 - acc: 0.8007 - val_loss: 0.3926 - val_acc: 0.8777\n",
      "Epoch 2/15\n",
      "80480/80480 [==============================] - 2s 22us/step - loss: 0.4172 - acc: 0.8626 - val_loss: 0.3576 - val_acc: 0.8870\n",
      "Epoch 3/15\n",
      "80480/80480 [==============================] - 2s 24us/step - loss: 0.4043 - acc: 0.8601 - val_loss: 0.3457 - val_acc: 0.8892\n",
      "Epoch 4/15\n",
      "80480/80480 [==============================] - 2s 22us/step - loss: 0.4007 - acc: 0.8599 - val_loss: 0.3381 - val_acc: 0.8920\n",
      "Epoch 5/15\n",
      "80480/80480 [==============================] - 2s 23us/step - loss: 0.4000 - acc: 0.8584 - val_loss: 0.3377 - val_acc: 0.8905\n",
      "Epoch 6/15\n",
      "80480/80480 [==============================] - 2s 23us/step - loss: 0.3949 - acc: 0.8590 - val_loss: 0.3318 - val_acc: 0.8946\n",
      "Epoch 7/15\n",
      "80480/80480 [==============================] - 2s 22us/step - loss: 0.3972 - acc: 0.8588 - val_loss: 0.3358 - val_acc: 0.8924\n",
      "Epoch 8/15\n",
      "80480/80480 [==============================] - 2s 22us/step - loss: 0.3866 - acc: 0.8613 - val_loss: 0.3125 - val_acc: 0.8959\n",
      "Epoch 9/15\n",
      "80480/80480 [==============================] - 2s 22us/step - loss: 0.3706 - acc: 0.8724 - val_loss: 0.3091 - val_acc: 0.8933\n",
      "Epoch 10/15\n",
      "80480/80480 [==============================] - 2s 22us/step - loss: 0.3641 - acc: 0.8787 - val_loss: 0.3073 - val_acc: 0.8949\n",
      "Epoch 11/15\n",
      "80480/80480 [==============================] - 2s 23us/step - loss: 0.3639 - acc: 0.8794 - val_loss: 0.3054 - val_acc: 0.8940\n",
      "Epoch 12/15\n",
      "80480/80480 [==============================] - 2s 23us/step - loss: 0.3611 - acc: 0.8798 - val_loss: 0.3055 - val_acc: 0.8909\n",
      "Epoch 13/15\n",
      "80480/80480 [==============================] - 2s 24us/step - loss: 0.3625 - acc: 0.8790 - val_loss: 0.3057 - val_acc: 0.8966\n",
      "Epoch 14/15\n",
      "80480/80480 [==============================] - 2s 23us/step - loss: 0.3585 - acc: 0.8785 - val_loss: 0.2990 - val_acc: 0.8957\n",
      "Epoch 15/15\n",
      "80480/80480 [==============================] - 2s 22us/step - loss: 0.3566 - acc: 0.8769 - val_loss: 0.2932 - val_acc: 0.8952\n"
     ]
    },
    {
     "data": {
      "text/plain": [
       "<keras.callbacks.History at 0x7f44db94aa90>"
      ]
     },
     "execution_count": 76,
     "metadata": {},
     "output_type": "execute_result"
    }
   ],
   "source": [
    "# Fitting the ANN to the Training set\n",
    "classifier.fit(X_train, y_train, batch_size = 64, epochs = 15, validation_data=(X_test,y_test))"
   ]
  },
  {
   "cell_type": "markdown",
   "metadata": {},
   "source": [
    "## Generalized Additive Model"
   ]
  },
  {
   "cell_type": "code",
   "execution_count": 77,
   "metadata": {},
   "outputs": [],
   "source": [
    "from pygam import LogisticGAM"
   ]
  },
  {
   "cell_type": "code",
   "execution_count": 78,
   "metadata": {},
   "outputs": [],
   "source": [
    "gam = LogisticGAM().fit(X_train,y_train)"
   ]
  },
  {
   "cell_type": "code",
   "execution_count": 79,
   "metadata": {},
   "outputs": [
    {
     "data": {
      "text/plain": [
       "0.9064239562624254"
      ]
     },
     "execution_count": 79,
     "metadata": {},
     "output_type": "execute_result"
    }
   ],
   "source": [
    "gam.accuracy(X_train,y_train)"
   ]
  },
  {
   "cell_type": "code",
   "execution_count": 80,
   "metadata": {},
   "outputs": [],
   "source": [
    "predictions = gam.predict(X_test)"
   ]
  },
  {
   "cell_type": "code",
   "execution_count": 81,
   "metadata": {},
   "outputs": [
    {
     "name": "stdout",
     "output_type": "stream",
     "text": [
      "Accuracy: 0.9076056858039505 \n"
     ]
    }
   ],
   "source": [
    "print(\"Accuracy: {} \".format(accuracy_score(y_test, predictions)))"
   ]
  },
  {
   "cell_type": "markdown",
   "metadata": {},
   "source": [
    "# Realistic Non-Cheating Model\n",
    "\n",
    "using hit location and technically using hc_y is cheating because we then know basically where the ball went, so let's remove those two variables. "
   ]
  },
  {
   "cell_type": "code",
   "execution_count": 90,
   "metadata": {},
   "outputs": [],
   "source": [
    "train = train.drop(['hit_location','hc_y'],axis=1)"
   ]
  },
  {
   "cell_type": "code",
   "execution_count": 92,
   "metadata": {},
   "outputs": [],
   "source": [
    "x_train = train.drop(['hit'],axis=1)\n",
    "y_train = train['hit']"
   ]
  },
  {
   "cell_type": "code",
   "execution_count": 93,
   "metadata": {},
   "outputs": [
    {
     "name": "stdout",
     "output_type": "stream",
     "text": [
      "80480 43336 123816\n"
     ]
    }
   ],
   "source": [
    "from sklearn.model_selection import train_test_split\n",
    "X_train, X_test,y_train, y_test = train_test_split(x_train,y_train,test_size=.35, random_state=101)\n",
    "print (len(X_train), len(X_test), len(X_train)+ len(X_test))"
   ]
  },
  {
   "cell_type": "code",
   "execution_count": 94,
   "metadata": {},
   "outputs": [
    {
     "name": "stdout",
     "output_type": "stream",
     "text": [
      "XGBoost Accuracy: 0.8513476093778845\n",
      "XGBoost AUC: 0.9136242355853166\n"
     ]
    }
   ],
   "source": [
    "from sklearn.metrics import roc_auc_score\n",
    "from sklearn.metrics import accuracy_score\n",
    "from xgboost import XGBClassifier\n",
    "\n",
    "xgb = XGBClassifier()\n",
    "xgb.fit(X_train,y_train)\n",
    "xgb_proba = xgb.predict_proba(X_test)\n",
    "# Predictions###############\n",
    "xgb_proba_2 = xgb_proba[:,1]\n",
    "xgb_pred = xgb.predict(X_test)\n",
    "\n",
    "print('XGBoost Accuracy:',accuracy_score(y_test, xgb_pred))\n",
    "print('XGBoost AUC:',roc_auc_score(y_test,xgb_proba_2))"
   ]
  },
  {
   "cell_type": "code",
   "execution_count": 95,
   "metadata": {},
   "outputs": [
    {
     "name": "stdout",
     "output_type": "stream",
     "text": [
      "             precision    recall  f1-score   support\n",
      "\n",
      "          0       0.86      0.92      0.89     28895\n",
      "          1       0.82      0.71      0.76     14441\n",
      "\n",
      "avg / total       0.85      0.85      0.85     43336\n",
      "\n"
     ]
    }
   ],
   "source": [
    "from sklearn.metrics import classification_report\n",
    "print(classification_report(y_test,xgb_pred))"
   ]
  },
  {
   "cell_type": "code",
   "execution_count": 96,
   "metadata": {},
   "outputs": [
    {
     "data": {
      "image/png": "[encoded data removed]",
      "text/plain": [
       "<Figure size 1152x576 with 1 Axes>"
      ]
     },
     "metadata": {},
     "output_type": "display_data"
    }
   ],
   "source": [
    "feats = {} # a dict to hold feature_name: feature_importance\n",
    "for feature, importance in zip(X_train.columns, xgb.feature_importances_):\n",
    "    feats[feature] = importance #add the name/value pair \n",
    "\n",
    "importances = pd.DataFrame.from_dict(feats, orient='index').rename(columns={0: 'Gini-importance'})\n",
    "from pylab import rcParams\n",
    "rcParams['figure.figsize']=16,8\n",
    "figure = importances.sort_values(by='Gini-importance').iloc[-12:,:].plot(kind='bar', rot=45)"
   ]
  },
  {
   "cell_type": "markdown",
   "metadata": {},
   "source": [
    "Final notes:\n",
    "\n",
    "Additional features that could be included. Hitter sprint speed, player sprint speed that makes the play, or that is around where the ball lands. \n",
    "\n",
    "Grid search could still further improve this model. "
   ]
  },
  {
   "cell_type": "code",
   "execution_count": null,
   "metadata": {},
   "outputs": [],
   "source": []
  }
 ],
 "metadata": {
  "kernelspec": {
   "display_name": "tensorflow_cpu",
   "language": "python",
   "name": "tensorflow_cpu"
  },
  "language_info": {
   "codemirror_mode": {
    "name": "ipython",
    "version": 3
   },
   "file_extension": ".py",
   "mimetype": "text/x-python",
   "name": "python",
   "nbconvert_exporter": "python",
   "pygments_lexer": "ipython3",
   "version": "3.6.7"
  }
 },
 "nbformat": 4,
 "nbformat_minor": 2
}
