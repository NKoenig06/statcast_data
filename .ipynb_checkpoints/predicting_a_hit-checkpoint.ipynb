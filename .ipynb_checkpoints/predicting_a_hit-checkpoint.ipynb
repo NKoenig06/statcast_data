{
 "cells": [
  {
   "cell_type": "code",
   "execution_count": 3,
   "metadata": {},
   "outputs": [],
   "source": [
    "from pybaseball import statcast\n",
    "import pandas as pd\n",
    "import numpy as np\n",
    "import warnings\n",
    "warnings.filterwarnings('ignore')"
   ]
  },
  {
   "cell_type": "markdown",
   "metadata": {},
   "source": [
    "# Variables to consider to build a predicted hit model\n",
    "\n",
    "- launch angle\n",
    "- launch speed\n",
    "- hc_y\n",
    "- hc_x\n",
    "- if_fielding_assignment (need to dummy code)\n",
    "- of_fielding_assignment (need to dummy code)\n",
    "- outs_when_up\n",
    "- home_team (need to dummy code)\n",
    "- stand (recode)\n",
    "- hit_location\n",
    "- p_throws (recode)"
   ]
  },
  {
   "cell_type": "code",
   "execution_count": 4,
   "metadata": {},
   "outputs": [
    {
     "name": "stdout",
     "output_type": "stream",
     "text": [
      "This is a large query, it may take a moment to complete\n",
      "Completed sub-query from 2019-03-31 to 2019-04-05\n",
      "Completed sub-query from 2019-04-06 to 2019-04-11\n",
      "Completed sub-query from 2019-04-12 to 2019-04-17\n",
      "Completed sub-query from 2019-04-18 to 2019-04-23\n",
      "Completed sub-query from 2019-04-24 to 2019-04-29\n",
      "Completed sub-query from 2019-04-30 to 2019-05-05\n",
      "Completed sub-query from 2019-05-06 to 2019-05-11\n",
      "Completed sub-query from 2019-05-12 to 2019-05-17\n",
      "Completed sub-query from 2019-05-18 to 2019-05-23\n",
      "Completed sub-query from 2019-05-24 to 2019-05-29\n",
      "Completed sub-query from 2019-05-30 to 2019-06-04\n",
      "Completed sub-query from 2019-06-05 to 2019-06-10\n",
      "Completed sub-query from 2019-06-11 to 2019-06-16\n",
      "Completed sub-query from 2019-06-17 to 2019-06-22\n",
      "Completed sub-query from 2019-06-23 to 2019-06-28\n",
      "Completed sub-query from 2019-06-29 to 2019-07-04\n",
      "Completed sub-query from 2019-07-05 to 2019-07-10\n",
      "Completed sub-query from 2019-07-11 to 2019-07-16\n",
      "Completed sub-query from 2019-07-17 to 2019-07-22\n",
      "Completed sub-query from 2019-07-23 to 2019-07-28\n",
      "Completed sub-query from 2019-07-29 to 2019-08-03\n",
      "Completed sub-query from 2019-08-04 to 2019-08-09\n",
      "Completed sub-query from 2019-08-10 to 2019-08-15\n",
      "Completed sub-query from 2019-08-16 to 2019-08-21\n",
      "Completed sub-query from 2019-08-22 to 2019-08-27\n",
      "Completed sub-query from 2019-08-28 to 2019-09-02\n",
      "Completed sub-query from 2019-09-03 to 2019-09-08\n",
      "Completed sub-query from 2019-09-09 to 2019-09-14\n",
      "Completed sub-query from 2019-09-15 to 2019-09-20\n",
      "Completed sub-query from 2019-09-21 to 2019-09-26\n",
      "Completed sub-query from 2019-09-27 to 2019-10-02\n",
      "Completed sub-query from 2019-10-03 to 2019-10-04\n"
     ]
    }
   ],
   "source": [
    "hitter_stats = statcast('2019-03-31','2019-10-04')"
   ]
  },
  {
   "cell_type": "code",
   "execution_count": 6,
   "metadata": {},
   "outputs": [],
   "source": [
    "hit = hitter_stats[['launch_angle','launch_speed','hc_x','hc_y','if_fielding_alignment','of_fielding_alignment','outs_when_up','home_team',\n",
    "    'stand','hit_location','p_throws','type','events']]\n",
    "\n",
    "in_play = hit[hit['type']=='X']"
   ]
  },
  {
   "cell_type": "markdown",
   "metadata": {},
   "source": [
    "## Recode events to hits or not"
   ]
  },
  {
   "cell_type": "code",
   "execution_count": 7,
   "metadata": {},
   "outputs": [],
   "source": [
    "in_play['hit'] = in_play['events'].apply(lambda x: 1 if x in('single','double','home_run','triple') else 0)"
   ]
  },
  {
   "cell_type": "markdown",
   "metadata": {},
   "source": [
    "## Cleaning Data for input into the model\n",
    "- Recodes\n",
    "- Dummy Codes"
   ]
  },
  {
   "cell_type": "code",
   "execution_count": 8,
   "metadata": {},
   "outputs": [],
   "source": [
    "# Recodes\n",
    "in_play['right_handed_batter'] = in_play['stand'].apply(lambda x: 1 if x =='R' else 0)\n",
    "in_play['right_handed_pitcher'] = in_play['p_throws'].apply(lambda x: 1 if x =='R' else 0)"
   ]
  },
  {
   "cell_type": "code",
   "execution_count": 9,
   "metadata": {},
   "outputs": [],
   "source": [
    "# drop all variables that will be recoded or dummy coded\n",
    "in_play_new = in_play.drop(['if_fielding_alignment','of_fielding_alignment','home_team','stand','type','events','p_throws'],axis=1)"
   ]
  },
  {
   "cell_type": "code",
   "execution_count": 10,
   "metadata": {},
   "outputs": [],
   "source": [
    "# dummy code and concatenate \n",
    "train = pd.concat([in_play_new, pd.get_dummies(in_play['if_fielding_alignment'])],axis=1)\n",
    "train = pd.concat([in_play_new, pd.get_dummies(in_play['of_fielding_alignment'])],axis=1)\n",
    "train = pd.concat([in_play_new, pd.get_dummies(in_play['home_team'])],axis=1)"
   ]
  },
  {
   "cell_type": "code",
   "execution_count": 11,
   "metadata": {},
   "outputs": [],
   "source": [
    "# make sure there are no NAs\n",
    "train.dropna(inplace=True)"
   ]
  },
  {
   "cell_type": "code",
   "execution_count": 12,
   "metadata": {},
   "outputs": [],
   "source": [
    "x_train = train.drop(['hit'],axis=1)\n",
    "y_train = train['hit']"
   ]
  },
  {
   "cell_type": "code",
   "execution_count": 18,
   "metadata": {},
   "outputs": [
    {
     "data": {
      "text/plain": [
       "0.29614954255249126"
      ]
     },
     "execution_count": 18,
     "metadata": {},
     "output_type": "execute_result"
    }
   ],
   "source": [
    "y_train.mean()"
   ]
  },
  {
   "cell_type": "markdown",
   "metadata": {},
   "source": [
    "predicting all outs would get us to 79.4% accuracy"
   ]
  },
  {
   "cell_type": "markdown",
   "metadata": {},
   "source": [
    "## Logistic Regression"
   ]
  },
  {
   "cell_type": "code",
   "execution_count": 13,
   "metadata": {},
   "outputs": [
    {
     "name": "stdout",
     "output_type": "stream",
     "text": [
      "Random Forest cross-validated mean AUC:  0.8614609439675309\n"
     ]
    }
   ],
   "source": [
    "# cross-validate basic Logistic Regression model to get a baseline AUC\n",
    "from sklearn.model_selection import cross_val_score\n",
    "from sklearn.linear_model import LogisticRegression\n",
    "lr_cv = cross_val_score(LogisticRegression(),\n",
    "x_train,y_train,scoring='roc_auc',cv=10)\n",
    "print(\"Random Forest cross-validated mean AUC: \",lr_cv.mean())"
   ]
  },
  {
   "cell_type": "markdown",
   "metadata": {},
   "source": [
    "## Random Forest"
   ]
  },
  {
   "cell_type": "code",
   "execution_count": 14,
   "metadata": {},
   "outputs": [
    {
     "name": "stdout",
     "output_type": "stream",
     "text": [
      "Random Forest cross-validated mean AUC:  0.9515462122534686\n"
     ]
    }
   ],
   "source": [
    "# cross-validate basic Random Forest model to get an AUC\n",
    "from sklearn.model_selection import cross_val_score\n",
    "from sklearn.ensemble import RandomForestClassifier\n",
    "rf_cv = cross_val_score(RandomForestClassifier(),\n",
    "x_train,y_train,scoring='roc_auc',cv=10)\n",
    "print(\"Random Forest cross-validated mean AUC: \",rf_cv.mean())"
   ]
  },
  {
   "cell_type": "markdown",
   "metadata": {},
   "source": [
    "## XGBoost"
   ]
  },
  {
   "cell_type": "code",
   "execution_count": 13,
   "metadata": {},
   "outputs": [
    {
     "name": "stdout",
     "output_type": "stream",
     "text": [
      "XGBoost cross-validated mean AUC:  0.9540392410573311\n"
     ]
    }
   ],
   "source": [
    "# cross-validate basic XGBoost model to get an AUC\n",
    "from sklearn.model_selection import cross_val_score\n",
    "from xgboost import XGBClassifier\n",
    "xgb_cv = cross_val_score(XGBClassifier(),\n",
    "x_train,y_train,scoring='roc_auc',cv=10)\n",
    "print(\"XGBoost cross-validated mean AUC: \",xgb_cv.mean())"
   ]
  },
  {
   "cell_type": "markdown",
   "metadata": {},
   "source": [
    "# Train/Test Split"
   ]
  },
  {
   "cell_type": "code",
   "execution_count": 15,
   "metadata": {},
   "outputs": [
    {
     "name": "stdout",
     "output_type": "stream",
     "text": [
      "75965 40905 116870\n"
     ]
    }
   ],
   "source": [
    "from sklearn.model_selection import train_test_split\n",
    "X_train, X_test,y_train, y_test = train_test_split(x_train,y_train,test_size=.35, random_state=101)\n",
    "print (len(X_train), len(X_test), len(X_train)+ len(X_test))"
   ]
  },
  {
   "cell_type": "code",
   "execution_count": 16,
   "metadata": {},
   "outputs": [
    {
     "name": "stdout",
     "output_type": "stream",
     "text": [
      "XGBoost Accuracy: 0.9158782544921159\n",
      "XGBoost AUC: 0.9550029834446239\n"
     ]
    }
   ],
   "source": [
    "from sklearn.metrics import roc_auc_score\n",
    "from sklearn.metrics import accuracy_score\n",
    "from xgboost import XGBClassifier\n",
    "\n",
    "xgb = XGBClassifier()\n",
    "xgb.fit(X_train,y_train)\n",
    "xgb_proba = xgb.predict_proba(X_test)\n",
    "# Predictions###############\n",
    "xgb_proba_2 = xgb_proba[:,1]\n",
    "xgb_pred = xgb.predict(X_test)\n",
    "\n",
    "print('XGBoost Accuracy:',accuracy_score(y_test, xgb_pred))\n",
    "print('XGBoost AUC:',roc_auc_score(y_test,xgb_proba_2))"
   ]
  },
  {
   "cell_type": "code",
   "execution_count": 17,
   "metadata": {},
   "outputs": [
    {
     "name": "stdout",
     "output_type": "stream",
     "text": [
      "             precision    recall  f1-score   support\n",
      "\n",
      "          0       0.92      0.96      0.94     28989\n",
      "          1       0.90      0.80      0.85     11916\n",
      "\n",
      "avg / total       0.92      0.92      0.91     40905\n",
      "\n"
     ]
    }
   ],
   "source": [
    "from sklearn.metrics import classification_report\n",
    "print(classification_report(y_test,xgb_pred))"
   ]
  },
  {
   "cell_type": "markdown",
   "metadata": {},
   "source": [
    "In 30 minutes I was able to produce a better model than the [hardballtimes model](https://tht.fangraphs.com/using-statcast-data-to-predict-hits/) on precision, recall, accuracy, and F1. \n",
    "\n",
    "\n",
    "Note model 2"
   ]
  },
  {
   "cell_type": "markdown",
   "metadata": {},
   "source": [
    "![img](https://i.imgur.com/6aJvc7s.png)"
   ]
  },
  {
   "cell_type": "code",
   "execution_count": null,
   "metadata": {},
   "outputs": [],
   "source": []
  }
 ],
 "metadata": {
  "kernelspec": {
   "display_name": "tensorflow_cpu",
   "language": "python",
   "name": "tensorflow_cpu"
  },
  "language_info": {
   "codemirror_mode": {
    "name": "ipython",
    "version": 3
   },
   "file_extension": ".py",
   "mimetype": "text/x-python",
   "name": "python",
   "nbconvert_exporter": "python",
   "pygments_lexer": "ipython3",
   "version": "3.6.7"
  }
 },
 "nbformat": 4,
 "nbformat_minor": 2
}
